{
  "nbformat": 4,
  "nbformat_minor": 0,
  "metadata": {
    "colab": {
      "name": "Stacked Bar Chart.ipynb",
      "provenance": [],
      "authorship_tag": "ABX9TyNwLDss+q34fcBr+FzqaakM",
      "include_colab_link": true
    },
    "kernelspec": {
      "name": "python3",
      "display_name": "Python 3"
    },
    "language_info": {
      "name": "python"
    }
  },
  "cells": [
    {
      "cell_type": "markdown",
      "metadata": {
        "id": "view-in-github",
        "colab_type": "text"
      },
      "source": [
        "<a href=\"https://colab.research.google.com/github/patternproject/p.sb.SaleDealsBasic/blob/main/Stacked_Bar_Chart.ipynb\" target=\"_parent\"><img src=\"https://colab.research.google.com/assets/colab-badge.svg\" alt=\"Open In Colab\"/></a>"
      ]
    },
    {
      "cell_type": "code",
      "execution_count": null,
      "metadata": {
        "id": "iKtXABK3aJWS"
      },
      "outputs": [],
      "source": [
        "# Read ME\n",
        "\n",
        "### Basic chart to show the deals of a resource, over months, split in terms of total and won\n",
        "\n",
        "### SRC: https://www.geeksforgeeks.org/create-a-stacked-bar-plot-in-matplotlib/"
      ]
    },
    {
      "cell_type": "code",
      "source": [
        "# importing package\n",
        "import matplotlib.pyplot as plt\n",
        "\n",
        "# create data\n",
        "month = ['Oct', 'Nov', 'Dec']\n",
        "won = [5, 10, 15]\n",
        "lost = [10, 15, 25]\n",
        "\n",
        "# plot bars in stack manner\n",
        "plt.bar(month, lost, color='r')\n",
        "plt.bar(month, won,  bottom=lost, color='b')\n",
        "plt.legend([\"Lost\",\"Won\"])\n",
        "plt.title(\"Deals in Last 3 Months\")\n",
        "plt.show()\n"
      ],
      "metadata": {
        "colab": {
          "base_uri": "https://localhost:8080/",
          "height": 281
        },
        "id": "R83py_TbaSyV",
        "outputId": "11b95808-5ad1-4068-e346-a5600f38d7b0"
      },
      "execution_count": 9,
      "outputs": [
        {
          "output_type": "display_data",
          "data": {
            "image/png": "[encoded data removed]",
            "text/plain": [
              "<Figure size 432x288 with 1 Axes>"
            ]
          },
          "metadata": {
            "needs_background": "light"
          }
        }
      ]
    }
  ]
}