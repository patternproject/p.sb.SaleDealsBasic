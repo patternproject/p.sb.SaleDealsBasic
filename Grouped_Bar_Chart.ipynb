{
  "nbformat": 4,
  "nbformat_minor": 0,
  "metadata": {
    "colab": {
      "name": "Grouped Bar Chart.ipynb",
      "provenance": [],
      "collapsed_sections": [],
      "authorship_tag": "ABX9TyOq78b/EgqZ1Kv/WmMDixdY",
      "include_colab_link": true
    },
    "kernelspec": {
      "name": "python3",
      "display_name": "Python 3"
    },
    "language_info": {
      "name": "python"
    }
  },
  "cells": [
    {
      "cell_type": "markdown",
      "metadata": {
        "id": "view-in-github",
        "colab_type": "text"
      },
      "source": [
        "<a href=\"https://colab.research.google.com/github/patternproject/p.sb.SaleDealsBasic/blob/main/Grouped_Bar_Chart.ipynb\" target=\"_parent\"><img src=\"https://colab.research.google.com/assets/colab-badge.svg\" alt=\"Open In Colab\"/></a>"
      ]
    },
    {
      "cell_type": "markdown",
      "source": [
        "# Read ME\n",
        "\n",
        "### Basic chart to show the deals of a resource, over months, split in terms of total and won"
      ],
      "metadata": {
        "id": "IBVD-WPcYa6g"
      }
    },
    {
      "cell_type": "code",
      "execution_count": 8,
      "metadata": {
        "colab": {
          "base_uri": "https://localhost:8080/",
          "height": 295
        },
        "id": "p_QrsDc6XNgf",
        "outputId": "3b3c63c7-84f2-4907-997d-b6afc234a839"
      },
      "outputs": [
        {
          "output_type": "display_data",
          "data": {
            "image/png": "[encoded data removed]",
            "text/plain": [
              "<Figure size 432x288 with 1 Axes>"
            ]
          },
          "metadata": {
            "needs_background": "light"
          }
        }
      ],
      "source": [
        "import numpy as np\n",
        "import matplotlib.pyplot as plt\n",
        "\n",
        "Total = [114, 230, 510, 370]\n",
        "Won = [115, 215, 250, 200]\n",
        "\n",
        "\n",
        "n=4\n",
        "r = np.arange(n)\n",
        "width = 0.25\n",
        "\n",
        "plt.bar(r + width, Total, color = 'g',\n",
        "\t\twidth = width, edgecolor = 'black',\n",
        "\t\tlabel='Total')\n",
        "plt.bar(r, Won, color = 'b',\n",
        "\t\twidth = width, edgecolor = 'black',\n",
        "\t\tlabel='Won')\n",
        "\n",
        "plt.xlabel(\"Month\")\n",
        "plt.ylabel(\"Number of Deals\")\n",
        "plt.title(\"Number of Deals per month\")\n",
        "\n",
        "# plt.grid(linestyle='--')\n",
        "plt.xticks(r + width/2,['Jan','Feb','Mar','Apr'])\n",
        "plt.legend()\n",
        "\n",
        "plt.show()\n"
      ]
    }
  ]
}